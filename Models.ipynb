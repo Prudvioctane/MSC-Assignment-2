{
 "cells": [
  {
   "cell_type": "markdown",
   "metadata": {
    "id": "tOSbfbscggXS"
   },
   "source": [
    "## 1. Descriptive Statistics:"
   ]
  },
  {
   "cell_type": "code",
   "execution_count": 1,
   "metadata": {
    "id": "20mjZh09ghN7"
   },
   "outputs": [],
   "source": [
    "import pandas as pd\n",
    "import numpy as np"
   ]
  },
  {
   "cell_type": "code",
   "execution_count": 2,
   "metadata": {
    "id": "pV5s982Bgm8E"
   },
   "outputs": [],
   "source": [
    "df = pd.read_csv(\"/content/NRA.csv\")"
   ]
  },
  {
   "cell_type": "code",
   "execution_count": 15,
   "metadata": {
    "colab": {
     "base_uri": "https://localhost:8080/",
     "height": 417
    },
    "id": "UfC8nXeCiG3w",
    "outputId": "7f75806d-d1f5-4461-ee3a-7f1564f4228c"
   },
   "outputs": [
    {
     "data": {
      "text/html": [
       "\n",
       "  <div id=\"df-b3e631ce-40c6-4715-bc3f-b59732933303\" class=\"colab-df-container\">\n",
       "    <div>\n",
       "<style scoped>\n",
       "    .dataframe tbody tr th:only-of-type {\n",
       "        vertical-align: middle;\n",
       "    }\n",
       "\n",
       "    .dataframe tbody tr th {\n",
       "        vertical-align: top;\n",
       "    }\n",
       "\n",
       "    .dataframe thead th {\n",
       "        text-align: right;\n",
       "    }\n",
       "</style>\n",
       "<table border=\"1\" class=\"dataframe\">\n",
       "  <thead>\n",
       "    <tr style=\"text-align: right;\">\n",
       "      <th></th>\n",
       "      <th>STATISTIC</th>\n",
       "      <th>STATISTIC Label</th>\n",
       "      <th>TLIST(A1)</th>\n",
       "      <th>Year</th>\n",
       "      <th>C03424V04122</th>\n",
       "      <th>Local Authority</th>\n",
       "      <th>C03122V03774</th>\n",
       "      <th>Type of Carriageway</th>\n",
       "      <th>UNIT</th>\n",
       "      <th>VALUE</th>\n",
       "    </tr>\n",
       "  </thead>\n",
       "  <tbody>\n",
       "    <tr>\n",
       "      <th>0</th>\n",
       "      <td>NRA03</td>\n",
       "      <td>National Route Length</td>\n",
       "      <td>2015</td>\n",
       "      <td>2015</td>\n",
       "      <td>-</td>\n",
       "      <td>All licensing authorities</td>\n",
       "      <td>-</td>\n",
       "      <td>All Carriage ways</td>\n",
       "      <td>Number</td>\n",
       "      <td>5306.0</td>\n",
       "    </tr>\n",
       "    <tr>\n",
       "      <th>1</th>\n",
       "      <td>NRA03</td>\n",
       "      <td>National Route Length</td>\n",
       "      <td>2015</td>\n",
       "      <td>2015</td>\n",
       "      <td>-</td>\n",
       "      <td>All licensing authorities</td>\n",
       "      <td>1</td>\n",
       "      <td>Motorway</td>\n",
       "      <td>Number</td>\n",
       "      <td>916.0</td>\n",
       "    </tr>\n",
       "    <tr>\n",
       "      <th>2</th>\n",
       "      <td>NRA03</td>\n",
       "      <td>National Route Length</td>\n",
       "      <td>2015</td>\n",
       "      <td>2015</td>\n",
       "      <td>-</td>\n",
       "      <td>All licensing authorities</td>\n",
       "      <td>3</td>\n",
       "      <td>Single</td>\n",
       "      <td>Number</td>\n",
       "      <td>4096.0</td>\n",
       "    </tr>\n",
       "    <tr>\n",
       "      <th>3</th>\n",
       "      <td>NRA03</td>\n",
       "      <td>National Route Length</td>\n",
       "      <td>2015</td>\n",
       "      <td>2015</td>\n",
       "      <td>-</td>\n",
       "      <td>All licensing authorities</td>\n",
       "      <td>4</td>\n",
       "      <td>Two plus one</td>\n",
       "      <td>Number</td>\n",
       "      <td>NaN</td>\n",
       "    </tr>\n",
       "    <tr>\n",
       "      <th>4</th>\n",
       "      <td>NRA03</td>\n",
       "      <td>National Route Length</td>\n",
       "      <td>2015</td>\n",
       "      <td>2015</td>\n",
       "      <td>-</td>\n",
       "      <td>All licensing authorities</td>\n",
       "      <td>5</td>\n",
       "      <td>Dual carriageway</td>\n",
       "      <td>Number</td>\n",
       "      <td>294.0</td>\n",
       "    </tr>\n",
       "  </tbody>\n",
       "</table>\n",
       "</div>\n",
       "    <div class=\"colab-df-buttons\">\n",
       "\n",
       "  <div class=\"colab-df-container\">\n",
       "    <button class=\"colab-df-convert\" onclick=\"convertToInteractive('df-b3e631ce-40c6-4715-bc3f-b59732933303')\"\n",
       "            title=\"Convert this dataframe to an interactive table.\"\n",
       "            style=\"display:none;\">\n",
       "\n",
       "  <svg xmlns=\"http://www.w3.org/2000/svg\" height=\"24px\" viewBox=\"0 -960 960 960\">\n",
       "    <path d=\"M120-120v-720h720v720H120Zm60-500h600v-160H180v160Zm220 220h160v-160H400v160Zm0 220h160v-160H400v160ZM180-400h160v-160H180v160Zm440 0h160v-160H620v160ZM180-180h160v-160H180v160Zm440 0h160v-160H620v160Z\"/>\n",
       "  </svg>\n",
       "    </button>\n",
       "\n",
       "  <style>\n",
       "    .colab-df-container {\n",
       "      display:flex;\n",
       "      gap: 12px;\n",
       "    }\n",
       "\n",
       "    .colab-df-convert {\n",
       "      background-color: #E8F0FE;\n",
       "      border: none;\n",
       "      border-radius: 50%;\n",
       "      cursor: pointer;\n",
       "      display: none;\n",
       "      fill: #1967D2;\n",
       "      height: 32px;\n",
       "      padding: 0 0 0 0;\n",
       "      width: 32px;\n",
       "    }\n",
       "\n",
       "    .colab-df-convert:hover {\n",
       "      background-color: #E2EBFA;\n",
       "      box-shadow: 0px 1px 2px rgba(60, 64, 67, 0.3), 0px 1px 3px 1px rgba(60, 64, 67, 0.15);\n",
       "      fill: #174EA6;\n",
       "    }\n",
       "\n",
       "    .colab-df-buttons div {\n",
       "      margin-bottom: 4px;\n",
       "    }\n",
       "\n",
       "    [theme=dark] .colab-df-convert {\n",
       "      background-color: #3B4455;\n",
       "      fill: #D2E3FC;\n",
       "    }\n",
       "\n",
       "    [theme=dark] .colab-df-convert:hover {\n",
       "      background-color: #434B5C;\n",
       "      box-shadow: 0px 1px 3px 1px rgba(0, 0, 0, 0.15);\n",
       "      filter: drop-shadow(0px 1px 2px rgba(0, 0, 0, 0.3));\n",
       "      fill: #FFFFFF;\n",
       "    }\n",
       "  </style>\n",
       "\n",
       "    <script>\n",
       "      const buttonEl =\n",
       "        document.querySelector('#df-b3e631ce-40c6-4715-bc3f-b59732933303 button.colab-df-convert');\n",
       "      buttonEl.style.display =\n",
       "        google.colab.kernel.accessAllowed ? 'block' : 'none';\n",
       "\n",
       "      async function convertToInteractive(key) {\n",
       "        const element = document.querySelector('#df-b3e631ce-40c6-4715-bc3f-b59732933303');\n",
       "        const dataTable =\n",
       "          await google.colab.kernel.invokeFunction('convertToInteractive',\n",
       "                                                    [key], {});\n",
       "        if (!dataTable) return;\n",
       "\n",
       "        const docLinkHtml = 'Like what you see? Visit the ' +\n",
       "          '<a target=\"_blank\" href=https://colab.research.google.com/notebooks/data_table.ipynb>data table notebook</a>'\n",
       "          + ' to learn more about interactive tables.';\n",
       "        element.innerHTML = '';\n",
       "        dataTable['output_type'] = 'display_data';\n",
       "        await google.colab.output.renderOutput(dataTable, element);\n",
       "        const docLink = document.createElement('div');\n",
       "        docLink.innerHTML = docLinkHtml;\n",
       "        element.appendChild(docLink);\n",
       "      }\n",
       "    </script>\n",
       "  </div>\n",
       "\n",
       "\n",
       "<div id=\"df-f5ab5da4-2ef9-4904-96cf-74d5e2633701\">\n",
       "  <button class=\"colab-df-quickchart\" onclick=\"quickchart('df-f5ab5da4-2ef9-4904-96cf-74d5e2633701')\"\n",
       "            title=\"Suggest charts\"\n",
       "            style=\"display:none;\">\n",
       "\n",
       "<svg xmlns=\"http://www.w3.org/2000/svg\" height=\"24px\"viewBox=\"0 0 24 24\"\n",
       "     width=\"24px\">\n",
       "    <g>\n",
       "        <path d=\"M19 3H5c-1.1 0-2 .9-2 2v14c0 1.1.9 2 2 2h14c1.1 0 2-.9 2-2V5c0-1.1-.9-2-2-2zM9 17H7v-7h2v7zm4 0h-2V7h2v10zm4 0h-2v-4h2v4z\"/>\n",
       "    </g>\n",
       "</svg>\n",
       "  </button>\n",
       "\n",
       "<style>\n",
       "  .colab-df-quickchart {\n",
       "      --bg-color: #E8F0FE;\n",
       "      --fill-color: #1967D2;\n",
       "      --hover-bg-color: #E2EBFA;\n",
       "      --hover-fill-color: #174EA6;\n",
       "      --disabled-fill-color: #AAA;\n",
       "      --disabled-bg-color: #DDD;\n",
       "  }\n",
       "\n",
       "  [theme=dark] .colab-df-quickchart {\n",
       "      --bg-color: #3B4455;\n",
       "      --fill-color: #D2E3FC;\n",
       "      --hover-bg-color: #434B5C;\n",
       "      --hover-fill-color: #FFFFFF;\n",
       "      --disabled-bg-color: #3B4455;\n",
       "      --disabled-fill-color: #666;\n",
       "  }\n",
       "\n",
       "  .colab-df-quickchart {\n",
       "    background-color: var(--bg-color);\n",
       "    border: none;\n",
       "    border-radius: 50%;\n",
       "    cursor: pointer;\n",
       "    display: none;\n",
       "    fill: var(--fill-color);\n",
       "    height: 32px;\n",
       "    padding: 0;\n",
       "    width: 32px;\n",
       "  }\n",
       "\n",
       "  .colab-df-quickchart:hover {\n",
       "    background-color: var(--hover-bg-color);\n",
       "    box-shadow: 0 1px 2px rgba(60, 64, 67, 0.3), 0 1px 3px 1px rgba(60, 64, 67, 0.15);\n",
       "    fill: var(--button-hover-fill-color);\n",
       "  }\n",
       "\n",
       "  .colab-df-quickchart-complete:disabled,\n",
       "  .colab-df-quickchart-complete:disabled:hover {\n",
       "    background-color: var(--disabled-bg-color);\n",
       "    fill: var(--disabled-fill-color);\n",
       "    box-shadow: none;\n",
       "  }\n",
       "\n",
       "  .colab-df-spinner {\n",
       "    border: 2px solid var(--fill-color);\n",
       "    border-color: transparent;\n",
       "    border-bottom-color: var(--fill-color);\n",
       "    animation:\n",
       "      spin 1s steps(1) infinite;\n",
       "  }\n",
       "\n",
       "  @keyframes spin {\n",
       "    0% {\n",
       "      border-color: transparent;\n",
       "      border-bottom-color: var(--fill-color);\n",
       "      border-left-color: var(--fill-color);\n",
       "    }\n",
       "    20% {\n",
       "      border-color: transparent;\n",
       "      border-left-color: var(--fill-color);\n",
       "      border-top-color: var(--fill-color);\n",
       "    }\n",
       "    30% {\n",
       "      border-color: transparent;\n",
       "      border-left-color: var(--fill-color);\n",
       "      border-top-color: var(--fill-color);\n",
       "      border-right-color: var(--fill-color);\n",
       "    }\n",
       "    40% {\n",
       "      border-color: transparent;\n",
       "      border-right-color: var(--fill-color);\n",
       "      border-top-color: var(--fill-color);\n",
       "    }\n",
       "    60% {\n",
       "      border-color: transparent;\n",
       "      border-right-color: var(--fill-color);\n",
       "    }\n",
       "    80% {\n",
       "      border-color: transparent;\n",
       "      border-right-color: var(--fill-color);\n",
       "      border-bottom-color: var(--fill-color);\n",
       "    }\n",
       "    90% {\n",
       "      border-color: transparent;\n",
       "      border-bottom-color: var(--fill-color);\n",
       "    }\n",
       "  }\n",
       "</style>\n",
       "\n",
       "  <script>\n",
       "    async function quickchart(key) {\n",
       "      const quickchartButtonEl =\n",
       "        document.querySelector('#' + key + ' button');\n",
       "      quickchartButtonEl.disabled = true;  // To prevent multiple clicks.\n",
       "      quickchartButtonEl.classList.add('colab-df-spinner');\n",
       "      try {\n",
       "        const charts = await google.colab.kernel.invokeFunction(\n",
       "            'suggestCharts', [key], {});\n",
       "      } catch (error) {\n",
       "        console.error('Error during call to suggestCharts:', error);\n",
       "      }\n",
       "      quickchartButtonEl.classList.remove('colab-df-spinner');\n",
       "      quickchartButtonEl.classList.add('colab-df-quickchart-complete');\n",
       "    }\n",
       "    (() => {\n",
       "      let quickchartButtonEl =\n",
       "        document.querySelector('#df-f5ab5da4-2ef9-4904-96cf-74d5e2633701 button');\n",
       "      quickchartButtonEl.style.display =\n",
       "        google.colab.kernel.accessAllowed ? 'block' : 'none';\n",
       "    })();\n",
       "  </script>\n",
       "</div>\n",
       "\n",
       "    </div>\n",
       "  </div>\n"
      ],
      "text/plain": [
       "  STATISTIC        STATISTIC Label  TLIST(A1)  Year C03424V04122  \\\n",
       "0     NRA03  National Route Length       2015  2015            -   \n",
       "1     NRA03  National Route Length       2015  2015            -   \n",
       "2     NRA03  National Route Length       2015  2015            -   \n",
       "3     NRA03  National Route Length       2015  2015            -   \n",
       "4     NRA03  National Route Length       2015  2015            -   \n",
       "\n",
       "             Local Authority C03122V03774 Type of Carriageway    UNIT   VALUE  \n",
       "0  All licensing authorities            -   All Carriage ways  Number  5306.0  \n",
       "1  All licensing authorities            1            Motorway  Number   916.0  \n",
       "2  All licensing authorities            3              Single  Number  4096.0  \n",
       "3  All licensing authorities            4        Two plus one  Number     NaN  \n",
       "4  All licensing authorities            5    Dual carriageway  Number   294.0  "
      ]
     },
     "execution_count": 15,
     "metadata": {},
     "output_type": "execute_result"
    }
   ],
   "source": [
    "df.head()"
   ]
  },
  {
   "cell_type": "code",
   "execution_count": 16,
   "metadata": {
    "colab": {
     "base_uri": "https://localhost:8080/"
    },
    "id": "fTMnRa1iiJi5",
    "outputId": "e692ec55-3dd1-4a7f-c1f6-9a60357b60fa"
   },
   "outputs": [
    {
     "name": "stdout",
     "output_type": "stream",
     "text": [
      "<class 'pandas.core.frame.DataFrame'>\n",
      "RangeIndex: 1080 entries, 0 to 1079\n",
      "Data columns (total 10 columns):\n",
      " #   Column               Non-Null Count  Dtype  \n",
      "---  ------               --------------  -----  \n",
      " 0   STATISTIC            1080 non-null   object \n",
      " 1   STATISTIC Label      1080 non-null   object \n",
      " 2   TLIST(A1)            1080 non-null   int64  \n",
      " 3   Year                 1080 non-null   int64  \n",
      " 4   C03424V04122         1080 non-null   object \n",
      " 5   Local Authority      1080 non-null   object \n",
      " 6   C03122V03774         1080 non-null   object \n",
      " 7   Type of Carriageway  1080 non-null   object \n",
      " 8   UNIT                 1080 non-null   object \n",
      " 9   VALUE                807 non-null    float64\n",
      "dtypes: float64(1), int64(2), object(7)\n",
      "memory usage: 84.5+ KB\n"
     ]
    }
   ],
   "source": [
    "df.info()"
   ]
  },
  {
   "cell_type": "code",
   "execution_count": 17,
   "metadata": {
    "colab": {
     "base_uri": "https://localhost:8080/"
    },
    "id": "D6uMycKziVEs",
    "outputId": "2779cf60-e9cb-4cc2-8334-4de1014c4e8d"
   },
   "outputs": [
    {
     "name": "stdout",
     "output_type": "stream",
     "text": [
      "STATISTIC                0\n",
      "STATISTIC Label          0\n",
      "TLIST(A1)                0\n",
      "Year                     0\n",
      "C03424V04122             0\n",
      "Local Authority          0\n",
      "C03122V03774             0\n",
      "Type of Carriageway      0\n",
      "UNIT                     0\n",
      "VALUE                  273\n",
      "dtype: int64\n"
     ]
    }
   ],
   "source": [
    "# Check for missing values\n",
    "print(df.isnull().sum())"
   ]
  },
  {
   "cell_type": "code",
   "execution_count": 18,
   "metadata": {
    "id": "kbdc5IBLiVCP"
   },
   "outputs": [],
   "source": [
    "# Impute missing values in 'VALUE' column with mean\n",
    "mean_value = df['VALUE'].mean()\n",
    "df['VALUE'].fillna(mean_value, inplace=True)"
   ]
  },
  {
   "cell_type": "code",
   "execution_count": 19,
   "metadata": {
    "colab": {
     "base_uri": "https://localhost:8080/"
    },
    "id": "hiVnVNFOiU_1",
    "outputId": "d7079c3d-acc3-4a28-eccc-9bbe6ef265d7"
   },
   "outputs": [
    {
     "name": "stdout",
     "output_type": "stream",
     "text": [
      "STATISTIC              0\n",
      "STATISTIC Label        0\n",
      "TLIST(A1)              0\n",
      "Year                   0\n",
      "C03424V04122           0\n",
      "Local Authority        0\n",
      "C03122V03774           0\n",
      "Type of Carriageway    0\n",
      "UNIT                   0\n",
      "VALUE                  0\n",
      "dtype: int64\n"
     ]
    }
   ],
   "source": [
    "# Check for missing values\n",
    "print(df.isnull().sum())"
   ]
  },
  {
   "cell_type": "markdown",
   "metadata": {
    "id": "RHJ_0691ieaY"
   },
   "source": [
    "## 2. Convert Categorical Variables:"
   ]
  },
  {
   "cell_type": "code",
   "execution_count": 20,
   "metadata": {
    "id": "RqQgEg4eiU9P"
   },
   "outputs": [],
   "source": [
    "# Convert categorical variables to numerical using one-hot encoding\n",
    "df_encoded = pd.get_dummies(df, columns=['STATISTIC', 'STATISTIC Label', 'C03424V04122', 'Local Authority', 'C03122V03774', 'Type of Carriageway', 'UNIT'], drop_first=True)\n"
   ]
  },
  {
   "cell_type": "markdown",
   "metadata": {
    "id": "ySqlYKabilY6"
   },
   "source": [
    "## Scaling Numerical Variables (if needed):"
   ]
  },
  {
   "cell_type": "code",
   "execution_count": 21,
   "metadata": {
    "id": "D1lWKydgiU6o"
   },
   "outputs": [],
   "source": [
    "from sklearn.preprocessing import StandardScaler\n",
    "\n",
    "# Scale numerical variables (e.g., 'TLIST(A1)', 'Year', 'VALUE')\n",
    "numerical_columns = ['TLIST(A1)', 'Year', 'VALUE']\n",
    "scaler = StandardScaler()\n",
    "df_encoded[numerical_columns] = scaler.fit_transform(df_encoded[numerical_columns])\n"
   ]
  },
  {
   "cell_type": "code",
   "execution_count": 22,
   "metadata": {
    "id": "wDl2OnbciU34"
   },
   "outputs": [],
   "source": [
    "# Identify and handle outliers using Z-score\n",
    "from scipy.stats import zscore\n",
    "\n",
    "z_scores = zscore(df_encoded[numerical_columns])\n",
    "abs_z_scores = np.abs(z_scores)\n",
    "filtered_entries = (abs_z_scores < 3).all(axis=1)\n",
    "df_encoded = df_encoded[filtered_entries]\n"
   ]
  },
  {
   "cell_type": "code",
   "execution_count": 23,
   "metadata": {
    "colab": {
     "base_uri": "https://localhost:8080/"
    },
    "id": "Hl94VImliUvf",
    "outputId": "3c76040f-bf13-4f66-b749-d175021be2f0"
   },
   "outputs": [
    {
     "name": "stdout",
     "output_type": "stream",
     "text": [
      "   TLIST(A1)      Year     VALUE  C03424V04122_1  C03424V04122_10  \\\n",
      "1  -1.527525 -1.527525  1.242228               0                0   \n",
      "3  -1.527525 -1.527525  0.000000               0                0   \n",
      "4  -1.527525 -1.527525  0.147322               0                0   \n",
      "5  -1.527525 -1.527525 -0.232903               1                0   \n",
      "6  -1.527525 -1.527525 -0.327959               1                0   \n",
      "\n",
      "   C03424V04122_11  C03424V04122_12  C03424V04122_13  C03424V04122_14  \\\n",
      "1                0                0                0                0   \n",
      "3                0                0                0                0   \n",
      "4                0                0                0                0   \n",
      "5                0                0                0                0   \n",
      "6                0                0                0                0   \n",
      "\n",
      "   C03424V04122_15  ...  Local Authority_Wexford  Local Authority_Wicklow  \\\n",
      "1                0  ...                        0                        0   \n",
      "3                0  ...                        0                        0   \n",
      "4                0  ...                        0                        0   \n",
      "5                0  ...                        0                        0   \n",
      "6                0  ...                        0                        0   \n",
      "\n",
      "   C03122V03774_1  C03122V03774_3  C03122V03774_4  C03122V03774_5  \\\n",
      "1               1               0               0               0   \n",
      "3               0               0               1               0   \n",
      "4               0               0               0               1   \n",
      "5               0               0               0               0   \n",
      "6               1               0               0               0   \n",
      "\n",
      "   Type of Carriageway_Dual carriageway  Type of Carriageway_Motorway  \\\n",
      "1                                     0                             1   \n",
      "3                                     0                             0   \n",
      "4                                     1                             0   \n",
      "5                                     0                             0   \n",
      "6                                     0                             1   \n",
      "\n",
      "   Type of Carriageway_Single  Type of Carriageway_Two plus one  \n",
      "1                           0                                 0  \n",
      "3                           0                                 1  \n",
      "4                           0                                 0  \n",
      "5                           0                                 0  \n",
      "6                           0                                 0  \n",
      "\n",
      "[5 rows x 63 columns]\n",
      "<class 'pandas.core.frame.DataFrame'>\n",
      "Int64Index: 1064 entries, 1 to 1079\n",
      "Data columns (total 63 columns):\n",
      " #   Column                                Non-Null Count  Dtype  \n",
      "---  ------                                --------------  -----  \n",
      " 0   TLIST(A1)                             1064 non-null   float64\n",
      " 1   Year                                  1064 non-null   float64\n",
      " 2   VALUE                                 1064 non-null   float64\n",
      " 3   C03424V04122_1                        1064 non-null   uint8  \n",
      " 4   C03424V04122_10                       1064 non-null   uint8  \n",
      " 5   C03424V04122_11                       1064 non-null   uint8  \n",
      " 6   C03424V04122_12                       1064 non-null   uint8  \n",
      " 7   C03424V04122_13                       1064 non-null   uint8  \n",
      " 8   C03424V04122_14                       1064 non-null   uint8  \n",
      " 9   C03424V04122_15                       1064 non-null   uint8  \n",
      " 10  C03424V04122_16                       1064 non-null   uint8  \n",
      " 11  C03424V04122_17                       1064 non-null   uint8  \n",
      " 12  C03424V04122_18                       1064 non-null   uint8  \n",
      " 13  C03424V04122_19                       1064 non-null   uint8  \n",
      " 14  C03424V04122_2                        1064 non-null   uint8  \n",
      " 15  C03424V04122_20                       1064 non-null   uint8  \n",
      " 16  C03424V04122_21                       1064 non-null   uint8  \n",
      " 17  C03424V04122_22                       1064 non-null   uint8  \n",
      " 18  C03424V04122_23                       1064 non-null   uint8  \n",
      " 19  C03424V04122_24                       1064 non-null   uint8  \n",
      " 20  C03424V04122_25                       1064 non-null   uint8  \n",
      " 21  C03424V04122_26                       1064 non-null   uint8  \n",
      " 22  C03424V04122_3                        1064 non-null   uint8  \n",
      " 23  C03424V04122_4                        1064 non-null   uint8  \n",
      " 24  C03424V04122_5                        1064 non-null   uint8  \n",
      " 25  C03424V04122_6                        1064 non-null   uint8  \n",
      " 26  C03424V04122_7                        1064 non-null   uint8  \n",
      " 27  C03424V04122_8                        1064 non-null   uint8  \n",
      " 28  C03424V04122_9                        1064 non-null   uint8  \n",
      " 29  Local Authority_Carlow                1064 non-null   uint8  \n",
      " 30  Local Authority_Cavan                 1064 non-null   uint8  \n",
      " 31  Local Authority_Clare                 1064 non-null   uint8  \n",
      " 32  Local Authority_Cork                  1064 non-null   uint8  \n",
      " 33  Local Authority_Donegal               1064 non-null   uint8  \n",
      " 34  Local Authority_Dublin                1064 non-null   uint8  \n",
      " 35  Local Authority_Galway                1064 non-null   uint8  \n",
      " 36  Local Authority_Kerry                 1064 non-null   uint8  \n",
      " 37  Local Authority_Kildare               1064 non-null   uint8  \n",
      " 38  Local Authority_Kilkenny              1064 non-null   uint8  \n",
      " 39  Local Authority_Laois                 1064 non-null   uint8  \n",
      " 40  Local Authority_Leitrim               1064 non-null   uint8  \n",
      " 41  Local Authority_Limerick              1064 non-null   uint8  \n",
      " 42  Local Authority_Longford              1064 non-null   uint8  \n",
      " 43  Local Authority_Louth                 1064 non-null   uint8  \n",
      " 44  Local Authority_Mayo                  1064 non-null   uint8  \n",
      " 45  Local Authority_Meath                 1064 non-null   uint8  \n",
      " 46  Local Authority_Monaghan              1064 non-null   uint8  \n",
      " 47  Local Authority_Offaly                1064 non-null   uint8  \n",
      " 48  Local Authority_Roscommon             1064 non-null   uint8  \n",
      " 49  Local Authority_Sligo                 1064 non-null   uint8  \n",
      " 50  Local Authority_Tipperary             1064 non-null   uint8  \n",
      " 51  Local Authority_Waterford             1064 non-null   uint8  \n",
      " 52  Local Authority_Westmeath             1064 non-null   uint8  \n",
      " 53  Local Authority_Wexford               1064 non-null   uint8  \n",
      " 54  Local Authority_Wicklow               1064 non-null   uint8  \n",
      " 55  C03122V03774_1                        1064 non-null   uint8  \n",
      " 56  C03122V03774_3                        1064 non-null   uint8  \n",
      " 57  C03122V03774_4                        1064 non-null   uint8  \n",
      " 58  C03122V03774_5                        1064 non-null   uint8  \n",
      " 59  Type of Carriageway_Dual carriageway  1064 non-null   uint8  \n",
      " 60  Type of Carriageway_Motorway          1064 non-null   uint8  \n",
      " 61  Type of Carriageway_Single            1064 non-null   uint8  \n",
      " 62  Type of Carriageway_Two plus one      1064 non-null   uint8  \n",
      "dtypes: float64(3), uint8(60)\n",
      "memory usage: 95.6 KB\n",
      "None\n"
     ]
    }
   ],
   "source": [
    "# Check the final data\n",
    "print(df_encoded.head())\n",
    "\n",
    "# Overview of the preprocessed data\n",
    "print(df_encoded.info())\n"
   ]
  },
  {
   "cell_type": "code",
   "execution_count": 24,
   "metadata": {
    "colab": {
     "base_uri": "https://localhost:8080/"
    },
    "id": "gd4-rAwti-KY",
    "outputId": "7ac48eb6-3299-4ddc-c93f-633b235eac7c"
   },
   "outputs": [
    {
     "name": "stdout",
     "output_type": "stream",
     "text": [
      "Summary Statistics:\n",
      "          TLIST(A1)          Year        VALUE  C03424V04122_1  \\\n",
      "count  1.064000e+03  1.064000e+03  1064.000000     1064.000000   \n",
      "mean   5.342427e-17  5.342427e-17    -0.118122        0.037594   \n",
      "std    1.000470e+00  1.000470e+00     0.233772        0.190302   \n",
      "min   -1.527525e+00 -1.527525e+00    -0.370206        0.000000   \n",
      "25%   -7.637626e-01 -7.637626e-01    -0.313876        0.000000   \n",
      "50%    0.000000e+00  0.000000e+00    -0.155449        0.000000   \n",
      "75%    7.637626e-01  7.637626e-01     0.000000        0.000000   \n",
      "max    1.527525e+00  1.527525e+00     1.381291        1.000000   \n",
      "\n",
      "       C03424V04122_10  C03424V04122_11  C03424V04122_12  C03424V04122_13  \\\n",
      "count      1064.000000      1064.000000      1064.000000      1064.000000   \n",
      "mean          0.037594         0.037594         0.037594         0.037594   \n",
      "std           0.190302         0.190302         0.190302         0.190302   \n",
      "min           0.000000         0.000000         0.000000         0.000000   \n",
      "25%           0.000000         0.000000         0.000000         0.000000   \n",
      "50%           0.000000         0.000000         0.000000         0.000000   \n",
      "75%           0.000000         0.000000         0.000000         0.000000   \n",
      "max           1.000000         1.000000         1.000000         1.000000   \n",
      "\n",
      "       C03424V04122_14  C03424V04122_15  ...  Local Authority_Wexford  \\\n",
      "count      1064.000000      1064.000000  ...              1064.000000   \n",
      "mean          0.037594         0.037594  ...                 0.037594   \n",
      "std           0.190302         0.190302  ...                 0.190302   \n",
      "min           0.000000         0.000000  ...                 0.000000   \n",
      "25%           0.000000         0.000000  ...                 0.000000   \n",
      "50%           0.000000         0.000000  ...                 0.000000   \n",
      "75%           0.000000         0.000000  ...                 0.000000   \n",
      "max           1.000000         1.000000  ...                 1.000000   \n",
      "\n",
      "       Local Authority_Wicklow  C03122V03774_1  C03122V03774_3  \\\n",
      "count              1064.000000     1064.000000     1064.000000   \n",
      "mean                  0.037594        0.203008        0.195489   \n",
      "std                   0.190302        0.402427        0.396763   \n",
      "min                   0.000000        0.000000        0.000000   \n",
      "25%                   0.000000        0.000000        0.000000   \n",
      "50%                   0.000000        0.000000        0.000000   \n",
      "75%                   0.000000        0.000000        0.000000   \n",
      "max                   1.000000        1.000000        1.000000   \n",
      "\n",
      "       C03122V03774_4  C03122V03774_5  Type of Carriageway_Dual carriageway  \\\n",
      "count     1064.000000     1064.000000                           1064.000000   \n",
      "mean         0.203008        0.203008                              0.203008   \n",
      "std          0.402427        0.402427                              0.402427   \n",
      "min          0.000000        0.000000                              0.000000   \n",
      "25%          0.000000        0.000000                              0.000000   \n",
      "50%          0.000000        0.000000                              0.000000   \n",
      "75%          0.000000        0.000000                              0.000000   \n",
      "max          1.000000        1.000000                              1.000000   \n",
      "\n",
      "       Type of Carriageway_Motorway  Type of Carriageway_Single  \\\n",
      "count                   1064.000000                 1064.000000   \n",
      "mean                       0.203008                    0.195489   \n",
      "std                        0.402427                    0.396763   \n",
      "min                        0.000000                    0.000000   \n",
      "25%                        0.000000                    0.000000   \n",
      "50%                        0.000000                    0.000000   \n",
      "75%                        0.000000                    0.000000   \n",
      "max                        1.000000                    1.000000   \n",
      "\n",
      "       Type of Carriageway_Two plus one  \n",
      "count                       1064.000000  \n",
      "mean                           0.203008  \n",
      "std                            0.402427  \n",
      "min                            0.000000  \n",
      "25%                            0.000000  \n",
      "50%                            0.000000  \n",
      "75%                            0.000000  \n",
      "max                            1.000000  \n",
      "\n",
      "[8 rows x 63 columns]\n",
      "\n",
      "Unique Values for Categorical Columns:\n"
     ]
    }
   ],
   "source": [
    "# Summary statistics\n",
    "summary_stats = df_encoded.describe(include='all')\n",
    "\n",
    "# Unique values for categorical columns\n",
    "unique_vals = {col: df_encoded[col].unique() for col in df_encoded.select_dtypes(include='object').columns}\n",
    "\n",
    "print(\"Summary Statistics:\")\n",
    "print(summary_stats)\n",
    "print(\"\\nUnique Values for Categorical Columns:\")\n",
    "for col, vals in unique_vals.items():\n",
    "    print(f\"\\n{col}:\\n{vals}\")\n"
   ]
  },
  {
   "cell_type": "code",
   "execution_count": 25,
   "metadata": {
    "colab": {
     "base_uri": "https://localhost:8080/"
    },
    "id": "Wma6CRZBi-NN",
    "outputId": "8c552bbe-4fa9-40a2-df65-df575553a5a4"
   },
   "outputs": [
    {
     "name": "stdout",
     "output_type": "stream",
     "text": [
      "Correlation Matrix:\n",
      "                                         TLIST(A1)          Year     VALUE  \\\n",
      "TLIST(A1)                             1.000000e+00  1.000000e+00  0.047404   \n",
      "Year                                  1.000000e+00  1.000000e+00  0.047404   \n",
      "VALUE                                 4.740403e-02  4.740403e-02  1.000000   \n",
      "C03424V04122_1                       -8.084517e-17 -8.084517e-17 -0.072828   \n",
      "C03424V04122_10                       5.485677e-18  5.485677e-18 -0.046222   \n",
      "...                                            ...           ...       ...   \n",
      "C03122V03774_5                       -2.594092e-17 -2.594092e-17 -0.380545   \n",
      "Type of Carriageway_Dual carriageway -2.594092e-17 -2.594092e-17 -0.380545   \n",
      "Type of Carriageway_Motorway          1.179015e-16  1.179015e-16 -0.141897   \n",
      "Type of Carriageway_Single            1.772063e-16  1.772063e-16  0.045462   \n",
      "Type of Carriageway_Two plus one     -1.028558e-16 -1.028558e-16  0.255136   \n",
      "\n",
      "                                      C03424V04122_1  C03424V04122_10  \\\n",
      "TLIST(A1)                              -8.084517e-17     5.485677e-18   \n",
      "Year                                   -8.084517e-17     5.485677e-18   \n",
      "VALUE                                  -7.282807e-02    -4.622190e-02   \n",
      "C03424V04122_1                          1.000000e+00    -3.906250e-02   \n",
      "C03424V04122_10                        -3.906250e-02     1.000000e+00   \n",
      "...                                              ...              ...   \n",
      "C03122V03774_5                         -1.477764e-03    -1.477764e-03   \n",
      "Type of Carriageway_Dual carriageway   -1.477764e-03    -1.477764e-03   \n",
      "Type of Carriageway_Motorway           -1.477764e-03    -1.477764e-03   \n",
      "Type of Carriageway_Single              2.248292e-03     2.248292e-03   \n",
      "Type of Carriageway_Two plus one       -1.477764e-03    -1.477764e-03   \n",
      "\n",
      "                                      C03424V04122_11  C03424V04122_12  \\\n",
      "TLIST(A1)                                1.940558e-17     2.746267e-17   \n",
      "Year                                     1.940558e-17     2.746267e-17   \n",
      "VALUE                                   -4.460980e-02    -9.550598e-02   \n",
      "C03424V04122_1                          -3.906250e-02    -3.906250e-02   \n",
      "C03424V04122_10                         -3.906250e-02    -3.906250e-02   \n",
      "...                                               ...              ...   \n",
      "C03122V03774_5                          -1.477764e-03    -1.477764e-03   \n",
      "Type of Carriageway_Dual carriageway    -1.477764e-03    -1.477764e-03   \n",
      "Type of Carriageway_Motorway            -1.477764e-03    -1.477764e-03   \n",
      "Type of Carriageway_Single               2.248292e-03     2.248292e-03   \n",
      "Type of Carriageway_Two plus one        -1.477764e-03    -1.477764e-03   \n",
      "\n",
      "                                      C03424V04122_13  C03424V04122_14  \\\n",
      "TLIST(A1)                                5.814818e-17    -4.731397e-18   \n",
      "Year                                     5.814818e-17    -4.731397e-18   \n",
      "VALUE                                   -1.167839e-02     1.569446e-01   \n",
      "C03424V04122_1                          -3.906250e-02    -3.906250e-02   \n",
      "C03424V04122_10                         -3.906250e-02    -3.906250e-02   \n",
      "...                                               ...              ...   \n",
      "C03122V03774_5                          -1.477764e-03    -1.477764e-03   \n",
      "Type of Carriageway_Dual carriageway    -1.477764e-03    -1.477764e-03   \n",
      "Type of Carriageway_Motorway            -1.477764e-03    -1.477764e-03   \n",
      "Type of Carriageway_Single               2.248292e-03     2.248292e-03   \n",
      "Type of Carriageway_Two plus one        -1.477764e-03    -1.477764e-03   \n",
      "\n",
      "                                      C03424V04122_15  ...  \\\n",
      "TLIST(A1)                               -8.523371e-17  ...   \n",
      "Year                                    -8.523371e-17  ...   \n",
      "VALUE                                    1.333908e-01  ...   \n",
      "C03424V04122_1                          -3.906250e-02  ...   \n",
      "C03424V04122_10                         -3.906250e-02  ...   \n",
      "...                                               ...  ...   \n",
      "C03122V03774_5                          -1.477764e-03  ...   \n",
      "Type of Carriageway_Dual carriageway    -1.477764e-03  ...   \n",
      "Type of Carriageway_Motorway            -1.477764e-03  ...   \n",
      "Type of Carriageway_Single               2.248292e-03  ...   \n",
      "Type of Carriageway_Two plus one        -1.477764e-03  ...   \n",
      "\n",
      "                                      Local Authority_Wexford  \\\n",
      "TLIST(A1)                                        1.940558e-17   \n",
      "Year                                             1.940558e-17   \n",
      "VALUE                                           -4.460980e-02   \n",
      "C03424V04122_1                                  -3.906250e-02   \n",
      "C03424V04122_10                                 -3.906250e-02   \n",
      "...                                                       ...   \n",
      "C03122V03774_5                                  -1.477764e-03   \n",
      "Type of Carriageway_Dual carriageway            -1.477764e-03   \n",
      "Type of Carriageway_Motorway                    -1.477764e-03   \n",
      "Type of Carriageway_Single                       2.248292e-03   \n",
      "Type of Carriageway_Two plus one                -1.477764e-03   \n",
      "\n",
      "                                      Local Authority_Wicklow  C03122V03774_1  \\\n",
      "TLIST(A1)                                        2.746267e-17    1.179015e-16   \n",
      "Year                                             2.746267e-17    1.179015e-16   \n",
      "VALUE                                           -9.550598e-02   -1.418970e-01   \n",
      "C03424V04122_1                                  -3.906250e-02   -1.477764e-03   \n",
      "C03424V04122_10                                 -3.906250e-02   -1.477764e-03   \n",
      "...                                                       ...             ...   \n",
      "C03122V03774_5                                  -1.477764e-03   -2.547170e-01   \n",
      "Type of Carriageway_Dual carriageway            -1.477764e-03   -2.547170e-01   \n",
      "Type of Carriageway_Motorway                    -1.477764e-03    1.000000e+00   \n",
      "Type of Carriageway_Single                       2.248292e-03   -2.487847e-01   \n",
      "Type of Carriageway_Two plus one                -1.477764e-03   -2.547170e-01   \n",
      "\n",
      "                                      C03122V03774_3  C03122V03774_4  \\\n",
      "TLIST(A1)                               1.772063e-16   -1.028558e-16   \n",
      "Year                                    1.772063e-16   -1.028558e-16   \n",
      "VALUE                                   4.546174e-02    2.551363e-01   \n",
      "C03424V04122_1                          2.248292e-03   -1.477764e-03   \n",
      "C03424V04122_10                         2.248292e-03   -1.477764e-03   \n",
      "...                                              ...             ...   \n",
      "C03122V03774_5                         -2.487847e-01   -2.547170e-01   \n",
      "Type of Carriageway_Dual carriageway   -2.487847e-01   -2.547170e-01   \n",
      "Type of Carriageway_Motorway           -2.487847e-01   -2.547170e-01   \n",
      "Type of Carriageway_Single              1.000000e+00   -2.487847e-01   \n",
      "Type of Carriageway_Two plus one       -2.487847e-01    1.000000e+00   \n",
      "\n",
      "                                      C03122V03774_5  \\\n",
      "TLIST(A1)                              -2.594092e-17   \n",
      "Year                                   -2.594092e-17   \n",
      "VALUE                                  -3.805448e-01   \n",
      "C03424V04122_1                         -1.477764e-03   \n",
      "C03424V04122_10                        -1.477764e-03   \n",
      "...                                              ...   \n",
      "C03122V03774_5                          1.000000e+00   \n",
      "Type of Carriageway_Dual carriageway    1.000000e+00   \n",
      "Type of Carriageway_Motorway           -2.547170e-01   \n",
      "Type of Carriageway_Single             -2.487847e-01   \n",
      "Type of Carriageway_Two plus one       -2.547170e-01   \n",
      "\n",
      "                                      Type of Carriageway_Dual carriageway  \\\n",
      "TLIST(A1)                                                    -2.594092e-17   \n",
      "Year                                                         -2.594092e-17   \n",
      "VALUE                                                        -3.805448e-01   \n",
      "C03424V04122_1                                               -1.477764e-03   \n",
      "C03424V04122_10                                              -1.477764e-03   \n",
      "...                                                                    ...   \n",
      "C03122V03774_5                                                1.000000e+00   \n",
      "Type of Carriageway_Dual carriageway                          1.000000e+00   \n",
      "Type of Carriageway_Motorway                                 -2.547170e-01   \n",
      "Type of Carriageway_Single                                   -2.487847e-01   \n",
      "Type of Carriageway_Two plus one                             -2.547170e-01   \n",
      "\n",
      "                                      Type of Carriageway_Motorway  \\\n",
      "TLIST(A1)                                             1.179015e-16   \n",
      "Year                                                  1.179015e-16   \n",
      "VALUE                                                -1.418970e-01   \n",
      "C03424V04122_1                                       -1.477764e-03   \n",
      "C03424V04122_10                                      -1.477764e-03   \n",
      "...                                                            ...   \n",
      "C03122V03774_5                                       -2.547170e-01   \n",
      "Type of Carriageway_Dual carriageway                 -2.547170e-01   \n",
      "Type of Carriageway_Motorway                          1.000000e+00   \n",
      "Type of Carriageway_Single                           -2.487847e-01   \n",
      "Type of Carriageway_Two plus one                     -2.547170e-01   \n",
      "\n",
      "                                      Type of Carriageway_Single  \\\n",
      "TLIST(A1)                                           1.772063e-16   \n",
      "Year                                                1.772063e-16   \n",
      "VALUE                                               4.546174e-02   \n",
      "C03424V04122_1                                      2.248292e-03   \n",
      "C03424V04122_10                                     2.248292e-03   \n",
      "...                                                          ...   \n",
      "C03122V03774_5                                     -2.487847e-01   \n",
      "Type of Carriageway_Dual carriageway               -2.487847e-01   \n",
      "Type of Carriageway_Motorway                       -2.487847e-01   \n",
      "Type of Carriageway_Single                          1.000000e+00   \n",
      "Type of Carriageway_Two plus one                   -2.487847e-01   \n",
      "\n",
      "                                      Type of Carriageway_Two plus one  \n",
      "TLIST(A1)                                                -1.028558e-16  \n",
      "Year                                                     -1.028558e-16  \n",
      "VALUE                                                     2.551363e-01  \n",
      "C03424V04122_1                                           -1.477764e-03  \n",
      "C03424V04122_10                                          -1.477764e-03  \n",
      "...                                                                ...  \n",
      "C03122V03774_5                                           -2.547170e-01  \n",
      "Type of Carriageway_Dual carriageway                     -2.547170e-01  \n",
      "Type of Carriageway_Motorway                             -2.547170e-01  \n",
      "Type of Carriageway_Single                               -2.487847e-01  \n",
      "Type of Carriageway_Two plus one                          1.000000e+00  \n",
      "\n",
      "[63 rows x 63 columns]\n",
      "\n",
      "Correlation with 'VALUE':\n",
      "TLIST(A1)                               0.047404\n",
      "Year                                    0.047404\n",
      "VALUE                                   1.000000\n",
      "C03424V04122_1                         -0.072828\n",
      "C03424V04122_10                        -0.046222\n",
      "                                          ...   \n",
      "C03122V03774_5                         -0.380545\n",
      "Type of Carriageway_Dual carriageway   -0.380545\n",
      "Type of Carriageway_Motorway           -0.141897\n",
      "Type of Carriageway_Single              0.045462\n",
      "Type of Carriageway_Two plus one        0.255136\n",
      "Length: 63, dtype: float64\n"
     ]
    }
   ],
   "source": [
    "# Correlation matrix\n",
    "correlation_matrix = df_encoded.corr()\n",
    "\n",
    "# Pairwise correlation with 'VALUE'\n",
    "correlation_with_value = df_encoded.corrwith(df_encoded['VALUE'])\n",
    "\n",
    "print(\"Correlation Matrix:\")\n",
    "print(correlation_matrix)\n",
    "print(\"\\nCorrelation with 'VALUE':\")\n",
    "print(correlation_with_value)\n"
   ]
  },
  {
   "cell_type": "code",
   "execution_count": 29,
   "metadata": {
    "colab": {
     "base_uri": "https://localhost:8080/"
    },
    "id": "1Wui-dfIjZYM",
    "outputId": "b9817364-de02-41e9-b627-f6a1679a1f9b"
   },
   "outputs": [
    {
     "name": "stdout",
     "output_type": "stream",
     "text": [
      "Index(['TLIST(A1)', 'Year', 'VALUE', 'C03424V04122_1', 'C03424V04122_10',\n",
      "       'C03424V04122_11', 'C03424V04122_12', 'C03424V04122_13',\n",
      "       'C03424V04122_14', 'C03424V04122_15', 'C03424V04122_16',\n",
      "       'C03424V04122_17', 'C03424V04122_18', 'C03424V04122_19',\n",
      "       'C03424V04122_2', 'C03424V04122_20', 'C03424V04122_21',\n",
      "       'C03424V04122_22', 'C03424V04122_23', 'C03424V04122_24',\n",
      "       'C03424V04122_25', 'C03424V04122_26', 'C03424V04122_3',\n",
      "       'C03424V04122_4', 'C03424V04122_5', 'C03424V04122_6', 'C03424V04122_7',\n",
      "       'C03424V04122_8', 'C03424V04122_9', 'Local Authority_Carlow',\n",
      "       'Local Authority_Cavan', 'Local Authority_Clare',\n",
      "       'Local Authority_Cork', 'Local Authority_Donegal',\n",
      "       'Local Authority_Dublin', 'Local Authority_Galway',\n",
      "       'Local Authority_Kerry', 'Local Authority_Kildare',\n",
      "       'Local Authority_Kilkenny', 'Local Authority_Laois',\n",
      "       'Local Authority_Leitrim', 'Local Authority_Limerick',\n",
      "       'Local Authority_Longford', 'Local Authority_Louth',\n",
      "       'Local Authority_Mayo', 'Local Authority_Meath',\n",
      "       'Local Authority_Monaghan', 'Local Authority_Offaly',\n",
      "       'Local Authority_Roscommon', 'Local Authority_Sligo',\n",
      "       'Local Authority_Tipperary', 'Local Authority_Waterford',\n",
      "       'Local Authority_Westmeath', 'Local Authority_Wexford',\n",
      "       'Local Authority_Wicklow', 'C03122V03774_1', 'C03122V03774_3',\n",
      "       'C03122V03774_4', 'C03122V03774_5',\n",
      "       'Type of Carriageway_Dual carriageway', 'Type of Carriageway_Motorway',\n",
      "       'Type of Carriageway_Single', 'Type of Carriageway_Two plus one'],\n",
      "      dtype='object')\n"
     ]
    }
   ],
   "source": [
    "# Display column names\n",
    "print(df_encoded.columns)\n"
   ]
  },
  {
   "cell_type": "code",
   "execution_count": 30,
   "metadata": {
    "colab": {
     "base_uri": "https://localhost:8080/"
    },
    "id": "uBAwicIijeP4",
    "outputId": "d5829d8d-344c-45d7-db22-1a7035fafcb4"
   },
   "outputs": [
    {
     "name": "stdout",
     "output_type": "stream",
     "text": [
      "   TLIST(A1)      Year     VALUE  C03424V04122_1  C03424V04122_10  \\\n",
      "1  -1.527525 -1.527525  1.242228               0                0   \n",
      "3  -1.527525 -1.527525  0.000000               0                0   \n",
      "4  -1.527525 -1.527525  0.147322               0                0   \n",
      "5  -1.527525 -1.527525 -0.232903               1                0   \n",
      "6  -1.527525 -1.527525 -0.327959               1                0   \n",
      "\n",
      "   C03424V04122_11  C03424V04122_12  C03424V04122_13  C03424V04122_14  \\\n",
      "1                0                0                0                0   \n",
      "3                0                0                0                0   \n",
      "4                0                0                0                0   \n",
      "5                0                0                0                0   \n",
      "6                0                0                0                0   \n",
      "\n",
      "   C03424V04122_15  ...  Local Authority_Wexford  Local Authority_Wicklow  \\\n",
      "1                0  ...                        0                        0   \n",
      "3                0  ...                        0                        0   \n",
      "4                0  ...                        0                        0   \n",
      "5                0  ...                        0                        0   \n",
      "6                0  ...                        0                        0   \n",
      "\n",
      "   C03122V03774_1  C03122V03774_3  C03122V03774_4  C03122V03774_5  \\\n",
      "1               1               0               0               0   \n",
      "3               0               0               1               0   \n",
      "4               0               0               0               1   \n",
      "5               0               0               0               0   \n",
      "6               1               0               0               0   \n",
      "\n",
      "   Type of Carriageway_Dual carriageway  Type of Carriageway_Motorway  \\\n",
      "1                                     0                             1   \n",
      "3                                     0                             0   \n",
      "4                                     1                             0   \n",
      "5                                     0                             0   \n",
      "6                                     0                             1   \n",
      "\n",
      "   Type of Carriageway_Single  Type of Carriageway_Two plus one  \n",
      "1                           0                                 0  \n",
      "3                           0                                 1  \n",
      "4                           0                                 0  \n",
      "5                           0                                 0  \n",
      "6                           0                                 0  \n",
      "\n",
      "[5 rows x 63 columns]\n"
     ]
    }
   ],
   "source": [
    "# Display the first few rows of the DataFrame\n",
    "print(df_encoded.head())"
   ]
  },
  {
   "cell_type": "markdown",
   "metadata": {
    "id": "EWwrZ7-wjEzQ"
   },
   "source": [
    "## 3. Hypothesis Testing (if applicable):\n",
    "Perform hypothesis tests based on our specific research questions. For example, if you have two groups ('Group A' and 'Group B'), and you want to test if there's a significant difference in the 'VALUE' between them:"
   ]
  },
  {
   "cell_type": "code",
   "execution_count": 31,
   "metadata": {
    "colab": {
     "base_uri": "https://localhost:8080/"
    },
    "id": "67XNLZssi-SL",
    "outputId": "0f6c25e3-e778-45ba-bf64-ed7deeb1aa3d"
   },
   "outputs": [
    {
     "name": "stdout",
     "output_type": "stream",
     "text": [
      "T-statistic: -11.48015309145236\n",
      "P-value: 9.817342635335602e-27\n"
     ]
    }
   ],
   "source": [
    "from scipy.stats import ttest_ind\n",
    "\n",
    "# Assuming 'Type of Carriageway' is a categorical variable with two groups\n",
    "group1_values = df_encoded[df_encoded['Type of Carriageway_Dual carriageway'] == 1]['VALUE']\n",
    "group2_values = df_encoded[df_encoded['Type of Carriageway_Single'] == 1]['VALUE']\n",
    "\n",
    "t_stat, p_value = ttest_ind(group1_values, group2_values)\n",
    "\n",
    "print(f\"T-statistic: {t_stat}\")\n",
    "print(f\"P-value: {p_value}\")\n"
   ]
  },
  {
   "cell_type": "markdown",
   "metadata": {
    "id": "t_2JKRH7jqUQ"
   },
   "source": [
    "## 2. ANOVA"
   ]
  },
  {
   "cell_type": "code",
   "execution_count": 32,
   "metadata": {
    "colab": {
     "base_uri": "https://localhost:8080/"
    },
    "id": "1Nqc4f5ui-Uy",
    "outputId": "d9017730-ac88-4742-c557-9c82ba8011ce"
   },
   "outputs": [
    {
     "name": "stdout",
     "output_type": "stream",
     "text": [
      "ANOVA Result:\n",
      "F_onewayResult(statistic=37.79365473139039, pvalue=3.0865942532429685e-16)\n"
     ]
    }
   ],
   "source": [
    "from scipy.stats import f_oneway\n",
    "\n",
    "# Assuming 'Type of Carriageway' is a categorical variable with multiple groups\n",
    "anova_result = f_oneway(df_encoded['VALUE'][df_encoded['Type of Carriageway_Dual carriageway'] == 1],\n",
    "                        df_encoded['VALUE'][df_encoded['Type of Carriageway_Single'] == 1],\n",
    "                        df_encoded['VALUE'][df_encoded['Type of Carriageway_Motorway'] == 1])\n",
    "\n",
    "print(\"ANOVA Result:\")\n",
    "print(anova_result)\n"
   ]
  },
  {
   "cell_type": "code",
   "execution_count": 33,
   "metadata": {
    "id": "erLSTIVpkOEh"
   },
   "outputs": [],
   "source": [
    "# Selecting relevant features and target variable\n",
    "X = df_encoded.drop(columns=['VALUE'])\n",
    "y = df_encoded['VALUE']\n"
   ]
  },
  {
   "cell_type": "markdown",
   "metadata": {
    "id": "9NXu5C9jlNBx"
   },
   "source": [
    "## Splitting the Data:\n",
    "Next, we'll split the data into training and testing sets."
   ]
  },
  {
   "cell_type": "code",
   "execution_count": 34,
   "metadata": {
    "id": "40enT30ulO9p"
   },
   "outputs": [],
   "source": [
    "from sklearn.model_selection import train_test_split\n",
    "\n",
    "X_train, X_test, y_train, y_test = train_test_split(X, y, test_size=0.2, random_state=42)\n"
   ]
  },
  {
   "cell_type": "markdown",
   "metadata": {
    "id": "zGLxnNbllScy"
   },
   "source": [
    "## Model 1: Linear Regression"
   ]
  },
  {
   "cell_type": "code",
   "execution_count": 35,
   "metadata": {
    "colab": {
     "base_uri": "https://localhost:8080/"
    },
    "id": "oUeMvKTzlTXo",
    "outputId": "14a0a5cd-e022-45e3-ef31-4872b62f8c73"
   },
   "outputs": [
    {
     "name": "stdout",
     "output_type": "stream",
     "text": [
      "Linear Regression Results:\n",
      "Best Parameters: {'fit_intercept': True}\n",
      "Mean Squared Error: 0.026593398525998888\n",
      "R-squared: 0.5443209169704236\n"
     ]
    }
   ],
   "source": [
    "from sklearn.linear_model import LinearRegression\n",
    "from sklearn.metrics import mean_squared_error, r2_score\n",
    "from sklearn.model_selection import GridSearchCV\n",
    "\n",
    "# Linear Regression model\n",
    "linear_reg = LinearRegression()\n",
    "\n",
    "# GridSearchCV for hyperparameter tuning\n",
    "param_grid_linear = {'fit_intercept': [True, False]}\n",
    "grid_search_linear = GridSearchCV(linear_reg, param_grid_linear, cv=5)\n",
    "grid_search_linear.fit(X_train, y_train)\n",
    "\n",
    "# Best parameters\n",
    "best_params_linear = grid_search_linear.best_params_\n",
    "\n",
    "# Predictions\n",
    "y_pred_linear = grid_search_linear.predict(X_test)\n",
    "\n",
    "# Evaluation metrics\n",
    "mse_linear = mean_squared_error(y_test, y_pred_linear)\n",
    "r2_linear = r2_score(y_test, y_pred_linear)\n",
    "\n",
    "print(\"Linear Regression Results:\")\n",
    "print(f\"Best Parameters: {best_params_linear}\")\n",
    "print(f\"Mean Squared Error: {mse_linear}\")\n",
    "print(f\"R-squared: {r2_linear}\")\n"
   ]
  },
  {
   "cell_type": "markdown",
   "metadata": {
    "id": "gHzQDqSAlaTC"
   },
   "source": [
    "## Model 2: Random Forest Regression"
   ]
  },
  {
   "cell_type": "code",
   "execution_count": 36,
   "metadata": {
    "colab": {
     "base_uri": "https://localhost:8080/"
    },
    "id": "RoQlw72QlbQg",
    "outputId": "6c1c0692-9257-41d6-fbd1-c3c5e9eec4fd"
   },
   "outputs": [
    {
     "name": "stdout",
     "output_type": "stream",
     "text": [
      "\n",
      "Random Forest Regression Results:\n",
      "Best Parameters: {'max_depth': 20, 'min_samples_leaf': 2, 'min_samples_split': 2, 'n_estimators': 200}\n",
      "Mean Squared Error: 0.02897628133523979\n",
      "R-squared: 0.5034901125728479\n"
     ]
    }
   ],
   "source": [
    "from sklearn.ensemble import RandomForestRegressor\n",
    "\n",
    "# Random Forest Regression model\n",
    "random_forest = RandomForestRegressor(random_state=42)\n",
    "\n",
    "# GridSearchCV for hyperparameter tuning\n",
    "param_grid_rf = {'n_estimators': [50, 100, 200],\n",
    "                 'max_depth': [None, 10, 20],\n",
    "                 'min_samples_split': [2, 5, 10],\n",
    "                 'min_samples_leaf': [1, 2, 4]}\n",
    "grid_search_rf = GridSearchCV(random_forest, param_grid_rf, cv=5)\n",
    "grid_search_rf.fit(X_train, y_train)\n",
    "\n",
    "# Best parameters\n",
    "best_params_rf = grid_search_rf.best_params_\n",
    "\n",
    "# Predictions\n",
    "y_pred_rf = grid_search_rf.predict(X_test)\n",
    "\n",
    "# Evaluation metrics\n",
    "mse_rf = mean_squared_error(y_test, y_pred_rf)\n",
    "r2_rf = r2_score(y_test, y_pred_rf)\n",
    "\n",
    "print(\"\\nRandom Forest Regression Results:\")\n",
    "print(f\"Best Parameters: {best_params_rf}\")\n",
    "print(f\"Mean Squared Error: {mse_rf}\")\n",
    "print(f\"R-squared: {r2_rf}\")\n"
   ]
  },
  {
   "cell_type": "markdown",
   "metadata": {
    "id": "c0pfD_TDlfuH"
   },
   "source": [
    "## Model Comparison:"
   ]
  },
  {
   "cell_type": "code",
   "execution_count": 37,
   "metadata": {
    "colab": {
     "base_uri": "https://localhost:8080/"
    },
    "id": "Td7keuwjldHr",
    "outputId": "e375a4bb-c828-4555-b6a0-4366c8d0e88d"
   },
   "outputs": [
    {
     "name": "stdout",
     "output_type": "stream",
     "text": [
      "\n",
      "Model Comparison:\n",
      "Linear Regression - R-squared: 0.5443209169704236\n",
      "Random Forest Regression - R-squared: 0.5034901125728479\n"
     ]
    }
   ],
   "source": [
    "# Compare Models\n",
    "print(\"\\nModel Comparison:\")\n",
    "print(f\"Linear Regression - R-squared: {r2_linear}\")\n",
    "print(f\"Random Forest Regression - R-squared: {r2_rf}\")"
   ]
  },
  {
   "cell_type": "code",
   "execution_count": 38,
   "metadata": {
    "colab": {
     "base_uri": "https://localhost:8080/",
     "height": 564
    },
    "id": "ZKDCR9scmOvN",
    "outputId": "42a25c23-c24c-49b6-b264-cc4cc3b8199c"
   },
   "outputs": [
    {
     "data": {
      "image/png": "[encoded data removed]",
      "text/plain": [
       "<Figure size 1000x600 with 1 Axes>"
      ]
     },
     "metadata": {},
     "output_type": "display_data"
    }
   ],
   "source": [
    "import matplotlib.pyplot as plt\n",
    "\n",
    "# Scatter plot for Linear Regression\n",
    "plt.figure(figsize=(10, 6))\n",
    "plt.scatter(y_test, y_pred_linear, alpha=0.5)\n",
    "plt.title('Linear Regression: True Values vs. Predicted Values')\n",
    "plt.xlabel('True Values')\n",
    "plt.ylabel('Predicted Values')\n",
    "plt.show()\n"
   ]
  },
  {
   "cell_type": "code",
   "execution_count": 39,
   "metadata": {
    "colab": {
     "base_uri": "https://localhost:8080/",
     "height": 564
    },
    "id": "bUHSNToImOx4",
    "outputId": "ff84c3ac-4ff3-4325-a575-2f27a8c1e82f"
   },
   "outputs": [
    {
     "data": {
      "image/png": "[encoded data removed]",
      "text/plain": [
       "<Figure size 1000x600 with 1 Axes>"
      ]
     },
     "metadata": {},
     "output_type": "display_data"
    }
   ],
   "source": [
    "# Scatter plot for Random Forest Regression\n",
    "plt.figure(figsize=(10, 6))\n",
    "plt.scatter(y_test, y_pred_rf, alpha=0.5, color='orange')\n",
    "plt.title('Random Forest Regression: True Values vs. Predicted Values')\n",
    "plt.xlabel('True Values')\n",
    "plt.ylabel('Predicted Values')\n",
    "plt.show()\n"
   ]
  },
  {
   "cell_type": "code",
   "execution_count": null,
   "metadata": {
    "id": "pHNICKBImS1d"
   },
   "outputs": [],
   "source": []
  }
 ],
 "metadata": {
  "colab": {
   "provenance": []
  },
  "kernelspec": {
   "display_name": "Python 3 (ipykernel)",
   "language": "python",
   "name": "python3"
  },
  "language_info": {
   "codemirror_mode": {
    "name": "ipython",
    "version": 3
   },
   "file_extension": ".py",
   "mimetype": "text/x-python",
   "name": "python",
   "nbconvert_exporter": "python",
   "pygments_lexer": "ipython3",
   "version": "3.9.12"
  }
 },
 "nbformat": 4,
 "nbformat_minor": 1
}
